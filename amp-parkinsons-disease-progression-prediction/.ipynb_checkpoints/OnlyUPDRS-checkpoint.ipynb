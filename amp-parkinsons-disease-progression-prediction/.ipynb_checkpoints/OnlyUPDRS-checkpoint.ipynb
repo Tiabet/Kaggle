{
 "cells": [
  {
   "cell_type": "markdown",
   "metadata": {},
   "source": [
    "## Competition Metric\n",
    "### *This function calculates SMAPE, the metric used to score our predictions in this competition*"
   ]
  },
  {
   "cell_type": "code",
   "execution_count": 1,
   "metadata": {},
   "outputs": [],
   "source": [
    "def smape(y_true, y_pred):\n",
    "    smap = np.zeros(len(y_true))\n",
    "    \n",
    "    num = np.abs(y_true - y_pred)\n",
    "    dem = ((np.abs(y_true) + np.abs(y_pred)) / 2)\n",
    "    \n",
    "    pos_ind = dem != 0\n",
    "    smap[pos_ind] = num[pos_ind] / dem[pos_ind]\n",
    "    \n",
    "    return 100 * np.mean(smap)"
   ]
  },
  {
   "cell_type": "markdown",
   "metadata": {},
   "source": [
    "# Data Exploration\n",
    "#### There are some NaN values in our target columns. These will be a problem for the smape function, so these values will be dropped while looking for the best average estimate. "
   ]
  },
  {
   "cell_type": "code",
   "execution_count": 2,
   "metadata": {},
   "outputs": [],
   "source": [
    "import pandas as pd\n",
    "import numpy as np\n",
    "\n",
    "train = pd.read_csv('train_clinical_data.csv')\n",
    "#train = pd.read_csv('/kaggle/input/amp-parkinsons-disease-progression-prediction/train_clinical_data.csv')\n",
    "#train = pd.read_csv('/kaggle/input/amp-parkinsons-disease-progression-prediction/supplemental_clinical_data.csv')\n"
   ]
  },
  {
   "cell_type": "code",
   "execution_count": 3,
   "metadata": {},
   "outputs": [
    {
     "data": {
      "text/plain": [
       "visit_id                                  0\n",
       "patient_id                                0\n",
       "visit_month                               0\n",
       "updrs_1                                   1\n",
       "updrs_2                                   2\n",
       "updrs_3                                  25\n",
       "updrs_4                                1038\n",
       "upd23b_clinical_state_on_medication    1327\n",
       "dtype: int64"
      ]
     },
     "execution_count": 3,
     "metadata": {},
     "output_type": "execute_result"
    }
   ],
   "source": [
    "train.isna().sum()"
   ]
  },
  {
   "cell_type": "code",
   "execution_count": 4,
   "metadata": {},
   "outputs": [
    {
     "data": {
      "text/html": [
       "<div>\n",
       "<style scoped>\n",
       "    .dataframe tbody tr th:only-of-type {\n",
       "        vertical-align: middle;\n",
       "    }\n",
       "\n",
       "    .dataframe tbody tr th {\n",
       "        vertical-align: top;\n",
       "    }\n",
       "\n",
       "    .dataframe thead th {\n",
       "        text-align: right;\n",
       "    }\n",
       "</style>\n",
       "<table border=\"1\" class=\"dataframe\">\n",
       "  <thead>\n",
       "    <tr style=\"text-align: right;\">\n",
       "      <th></th>\n",
       "      <th>visit_id</th>\n",
       "      <th>patient_id</th>\n",
       "      <th>visit_month</th>\n",
       "      <th>updrs_1</th>\n",
       "      <th>updrs_2</th>\n",
       "      <th>updrs_3</th>\n",
       "      <th>updrs_4</th>\n",
       "      <th>upd23b_clinical_state_on_medication</th>\n",
       "    </tr>\n",
       "  </thead>\n",
       "  <tbody>\n",
       "    <tr>\n",
       "      <th>0</th>\n",
       "      <td>55_0</td>\n",
       "      <td>55</td>\n",
       "      <td>0</td>\n",
       "      <td>10.0</td>\n",
       "      <td>6.0</td>\n",
       "      <td>15.0</td>\n",
       "      <td>NaN</td>\n",
       "      <td>NaN</td>\n",
       "    </tr>\n",
       "    <tr>\n",
       "      <th>1</th>\n",
       "      <td>55_3</td>\n",
       "      <td>55</td>\n",
       "      <td>3</td>\n",
       "      <td>10.0</td>\n",
       "      <td>7.0</td>\n",
       "      <td>25.0</td>\n",
       "      <td>NaN</td>\n",
       "      <td>NaN</td>\n",
       "    </tr>\n",
       "    <tr>\n",
       "      <th>2</th>\n",
       "      <td>55_6</td>\n",
       "      <td>55</td>\n",
       "      <td>6</td>\n",
       "      <td>8.0</td>\n",
       "      <td>10.0</td>\n",
       "      <td>34.0</td>\n",
       "      <td>NaN</td>\n",
       "      <td>NaN</td>\n",
       "    </tr>\n",
       "    <tr>\n",
       "      <th>3</th>\n",
       "      <td>55_9</td>\n",
       "      <td>55</td>\n",
       "      <td>9</td>\n",
       "      <td>8.0</td>\n",
       "      <td>9.0</td>\n",
       "      <td>30.0</td>\n",
       "      <td>0.0</td>\n",
       "      <td>On</td>\n",
       "    </tr>\n",
       "    <tr>\n",
       "      <th>4</th>\n",
       "      <td>55_12</td>\n",
       "      <td>55</td>\n",
       "      <td>12</td>\n",
       "      <td>10.0</td>\n",
       "      <td>10.0</td>\n",
       "      <td>41.0</td>\n",
       "      <td>0.0</td>\n",
       "      <td>On</td>\n",
       "    </tr>\n",
       "  </tbody>\n",
       "</table>\n",
       "</div>"
      ],
      "text/plain": [
       "  visit_id  patient_id  visit_month  updrs_1  updrs_2  updrs_3  updrs_4  \\\n",
       "0     55_0          55            0     10.0      6.0     15.0      NaN   \n",
       "1     55_3          55            3     10.0      7.0     25.0      NaN   \n",
       "2     55_6          55            6      8.0     10.0     34.0      NaN   \n",
       "3     55_9          55            9      8.0      9.0     30.0      0.0   \n",
       "4    55_12          55           12     10.0     10.0     41.0      0.0   \n",
       "\n",
       "  upd23b_clinical_state_on_medication  \n",
       "0                                 NaN  \n",
       "1                                 NaN  \n",
       "2                                 NaN  \n",
       "3                                  On  \n",
       "4                                  On  "
      ]
     },
     "execution_count": 4,
     "metadata": {},
     "output_type": "execute_result"
    }
   ],
   "source": [
    "train.head()"
   ]
  },
  {
   "cell_type": "markdown",
   "metadata": {},
   "source": [
    "### This loop optimizes the estimate for the highest smape score on the training set. This is repeated for every month of every target variable. "
   ]
  },
  {
   "cell_type": "code",
   "execution_count": 5,
   "metadata": {},
   "outputs": [],
   "source": [
    "train['upd23b_clinical_state_on_medication']= train['upd23b_clinical_state_on_medication'].replace('On', 1)\n",
    "train['upd23b_clinical_state_on_medication']=train['upd23b_clinical_state_on_medication'].replace('Off', 2)\n",
    "train['upd23b_clinical_state_on_medication'].fillna(0, inplace=True)"
   ]
  },
  {
   "cell_type": "code",
   "execution_count": 6,
   "metadata": {},
   "outputs": [
    {
     "data": {
      "text/html": [
       "<div>\n",
       "<style scoped>\n",
       "    .dataframe tbody tr th:only-of-type {\n",
       "        vertical-align: middle;\n",
       "    }\n",
       "\n",
       "    .dataframe tbody tr th {\n",
       "        vertical-align: top;\n",
       "    }\n",
       "\n",
       "    .dataframe thead th {\n",
       "        text-align: right;\n",
       "    }\n",
       "</style>\n",
       "<table border=\"1\" class=\"dataframe\">\n",
       "  <thead>\n",
       "    <tr style=\"text-align: right;\">\n",
       "      <th></th>\n",
       "      <th>visit_id</th>\n",
       "      <th>patient_id</th>\n",
       "      <th>visit_month</th>\n",
       "      <th>updrs_1</th>\n",
       "      <th>updrs_2</th>\n",
       "      <th>updrs_3</th>\n",
       "      <th>updrs_4</th>\n",
       "      <th>upd23b_clinical_state_on_medication</th>\n",
       "    </tr>\n",
       "  </thead>\n",
       "  <tbody>\n",
       "    <tr>\n",
       "      <th>0</th>\n",
       "      <td>55_0</td>\n",
       "      <td>55</td>\n",
       "      <td>0</td>\n",
       "      <td>10.0</td>\n",
       "      <td>6.0</td>\n",
       "      <td>15.0</td>\n",
       "      <td>NaN</td>\n",
       "      <td>0.0</td>\n",
       "    </tr>\n",
       "    <tr>\n",
       "      <th>1</th>\n",
       "      <td>55_3</td>\n",
       "      <td>55</td>\n",
       "      <td>3</td>\n",
       "      <td>10.0</td>\n",
       "      <td>7.0</td>\n",
       "      <td>25.0</td>\n",
       "      <td>NaN</td>\n",
       "      <td>0.0</td>\n",
       "    </tr>\n",
       "    <tr>\n",
       "      <th>2</th>\n",
       "      <td>55_6</td>\n",
       "      <td>55</td>\n",
       "      <td>6</td>\n",
       "      <td>8.0</td>\n",
       "      <td>10.0</td>\n",
       "      <td>34.0</td>\n",
       "      <td>NaN</td>\n",
       "      <td>0.0</td>\n",
       "    </tr>\n",
       "    <tr>\n",
       "      <th>3</th>\n",
       "      <td>55_9</td>\n",
       "      <td>55</td>\n",
       "      <td>9</td>\n",
       "      <td>8.0</td>\n",
       "      <td>9.0</td>\n",
       "      <td>30.0</td>\n",
       "      <td>0.0</td>\n",
       "      <td>1.0</td>\n",
       "    </tr>\n",
       "    <tr>\n",
       "      <th>4</th>\n",
       "      <td>55_12</td>\n",
       "      <td>55</td>\n",
       "      <td>12</td>\n",
       "      <td>10.0</td>\n",
       "      <td>10.0</td>\n",
       "      <td>41.0</td>\n",
       "      <td>0.0</td>\n",
       "      <td>1.0</td>\n",
       "    </tr>\n",
       "  </tbody>\n",
       "</table>\n",
       "</div>"
      ],
      "text/plain": [
       "  visit_id  patient_id  visit_month  updrs_1  updrs_2  updrs_3  updrs_4  \\\n",
       "0     55_0          55            0     10.0      6.0     15.0      NaN   \n",
       "1     55_3          55            3     10.0      7.0     25.0      NaN   \n",
       "2     55_6          55            6      8.0     10.0     34.0      NaN   \n",
       "3     55_9          55            9      8.0      9.0     30.0      0.0   \n",
       "4    55_12          55           12     10.0     10.0     41.0      0.0   \n",
       "\n",
       "   upd23b_clinical_state_on_medication  \n",
       "0                                  0.0  \n",
       "1                                  0.0  \n",
       "2                                  0.0  \n",
       "3                                  1.0  \n",
       "4                                  1.0  "
      ]
     },
     "execution_count": 6,
     "metadata": {},
     "output_type": "execute_result"
    }
   ],
   "source": [
    "train.head()"
   ]
  },
  {
   "cell_type": "code",
   "execution_count": 82,
   "metadata": {},
   "outputs": [],
   "source": [
    "estimates = {}\n",
    "months = train.visit_month.unique()\n",
    "targets = [ 'updrs_1','updrs_2', 'updrs_3']\n",
    "for m in months:\n",
    "    for target in targets:\n",
    "        t = train[train.visit_month==m][f'{target}'].dropna().values\n",
    "        if len(t) >= 100:\n",
    "            s = []\n",
    "            best_threshold = 2\n",
    "            best_smape = 100\n",
    "            for i in np.arange(0, 30, 0.1):\n",
    "                score = smape(t, np.array([i for _ in range(len(t))]))\n",
    "                s.append(score)\n",
    "                if score < best_smape:\n",
    "                    best_smape = score\n",
    "                    best_threshold = i\n",
    "        else:\n",
    "            best_threshold = np.median(t)\n",
    "        if target == 'updrs_2':\n",
    "            best_threshold+=1\n",
    "        estimates[(m, target)] = best_threshold\n",
    "\n",
    "for i in range(sorted(months)[-1]+1):\n",
    "    for target in targets:\n",
    "        if (i, target) not in estimates:\n",
    "            estimates[(i, target)] = estimates[(i-1, target)]"
   ]
  },
  {
   "cell_type": "markdown",
   "metadata": {},
   "source": [
    "### This bit of code calculates a score on the training data, and this should resemble the testing data"
   ]
  },
  {
   "cell_type": "code",
   "execution_count": 83,
   "metadata": {},
   "outputs": [
    {
     "data": {
      "text/plain": [
       "75.93161212617807"
      ]
     },
     "execution_count": 83,
     "metadata": {},
     "output_type": "execute_result"
    }
   ],
   "source": [
    "validation_x = []\n",
    "validation_y = []\n",
    "\n",
    "for id, row in train.iterrows():\n",
    "    for t in targets:\n",
    "        if row[f'{t}']>=0:\n",
    "            validation_x.append((row.visit_month, t))\n",
    "            validation_y.append(row[f'{t}'])\n",
    "            \n",
    "smape(validation_y, pd.Series(validation_x).map(estimates).values)"
   ]
  },
  {
   "cell_type": "markdown",
   "metadata": {},
   "source": [
    "version 5 : 75.8"
   ]
  },
  {
   "cell_type": "markdown",
   "metadata": {},
   "source": [
    "# Applying Optimal Value Estimates to Test Data"
   ]
  },
  {
   "cell_type": "markdown",
   "metadata": {
    "execution": {
     "iopub.execute_input": "2023-03-15T13:51:33.730411Z",
     "iopub.status.busy": "2023-03-15T13:51:33.729663Z",
     "iopub.status.idle": "2023-03-15T13:51:33.813172Z",
     "shell.execute_reply": "2023-03-15T13:51:33.811445Z",
     "shell.execute_reply.started": "2023-03-15T13:51:33.730371Z"
    }
   },
   "source": [
    "import amp_pd_peptide\n",
    "env = amp_pd_peptide.make_env()   # initialize the environment\n",
    "iter_test = env.iter_test()    # an iterator which loops over the test files\n",
    "\n",
    "# The API will deliver four dataframes in this specific order:\n",
    "for (test, test_peptides, test_proteins, sample_submission) in iter_test:\n",
    "    # This maps the correct value estimate to each line in sample_submission\n",
    "    targets = sample_submission.prediction_id.str.split('_').apply(lambda x: (int(x[1]) + int(x[5]), '_'.join(x[2:4])))\n",
    "    sample_submission['rating'] = targets.map(estimates)\n",
    "    sample_submission['rating'] = sample_submission['rating'].fillna(0)\n",
    "    \n",
    "    # Saves predictions to csv file\n",
    "    env.predict(sample_submission)"
   ]
  },
  {
   "cell_type": "markdown",
   "metadata": {
    "execution": {
     "iopub.status.busy": "2023-03-15T13:51:33.814606Z",
     "iopub.status.idle": "2023-03-15T13:51:33.817532Z",
     "shell.execute_reply": "2023-03-15T13:51:33.817322Z",
     "shell.execute_reply.started": "2023-03-15T13:51:33.817297Z"
    }
   },
   "source": [
    "submission = pd.read_csv('/kaggle/working/submission.csv')\n",
    "submission"
   ]
  },
  {
   "cell_type": "code",
   "execution_count": null,
   "metadata": {},
   "outputs": [],
   "source": []
  }
 ],
 "metadata": {
  "kernelspec": {
   "display_name": "Python 3 (ipykernel)",
   "language": "python",
   "name": "python3"
  },
  "language_info": {
   "codemirror_mode": {
    "name": "ipython",
    "version": 3
   },
   "file_extension": ".py",
   "mimetype": "text/x-python",
   "name": "python",
   "nbconvert_exporter": "python",
   "pygments_lexer": "ipython3",
   "version": "3.9.13"
  }
 },
 "nbformat": 4,
 "nbformat_minor": 4
}
