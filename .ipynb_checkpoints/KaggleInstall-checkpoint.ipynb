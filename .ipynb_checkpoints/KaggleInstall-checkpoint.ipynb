{
 "cells": [
  {
   "cell_type": "code",
   "execution_count": 1,
   "id": "cbac1997-78d2-403c-99e9-f34414b45fb1",
   "metadata": {},
   "outputs": [
    {
     "name": "stdout",
     "output_type": "stream",
     "text": [
      "Collecting kaggle\n",
      "  Downloading kaggle-1.5.13.tar.gz (63 kB)\n",
      "     ---------------------------------------- 63.3/63.3 kB 3.5 MB/s eta 0:00:00\n",
      "  Preparing metadata (setup.py): started\n",
      "  Preparing metadata (setup.py): finished with status 'done'\n",
      "Requirement already satisfied: six>=1.10 in c:\\anaconda\\lib\\site-packages (from kaggle) (1.16.0)\n",
      "Requirement already satisfied: certifi in c:\\anaconda\\lib\\site-packages (from kaggle) (2022.9.14)\n",
      "Requirement already satisfied: python-dateutil in c:\\anaconda\\lib\\site-packages (from kaggle) (2.8.2)\n",
      "Requirement already satisfied: requests in c:\\anaconda\\lib\\site-packages (from kaggle) (2.28.1)\n",
      "Requirement already satisfied: tqdm in c:\\anaconda\\lib\\site-packages (from kaggle) (4.64.1)\n",
      "Requirement already satisfied: python-slugify in c:\\anaconda\\lib\\site-packages (from kaggle) (5.0.2)\n",
      "Requirement already satisfied: urllib3 in c:\\anaconda\\lib\\site-packages (from kaggle) (1.26.11)\n",
      "Requirement already satisfied: text-unidecode>=1.3 in c:\\anaconda\\lib\\site-packages (from python-slugify->kaggle) (1.3)\n",
      "Requirement already satisfied: idna<4,>=2.5 in c:\\anaconda\\lib\\site-packages (from requests->kaggle) (3.3)\n",
      "Requirement already satisfied: charset-normalizer<3,>=2 in c:\\anaconda\\lib\\site-packages (from requests->kaggle) (2.0.4)\n",
      "Requirement already satisfied: colorama in c:\\anaconda\\lib\\site-packages (from tqdm->kaggle) (0.4.5)\n",
      "Building wheels for collected packages: kaggle\n",
      "  Building wheel for kaggle (setup.py): started\n",
      "  Building wheel for kaggle (setup.py): finished with status 'done'\n",
      "  Created wheel for kaggle: filename=kaggle-1.5.13-py3-none-any.whl size=77717 sha256=69f43843204d4d931454eff9db4d24f2004a23d0ce96ba141c560a912bd14606\n",
      "  Stored in directory: c:\\users\\kkksk\\appdata\\local\\pip\\cache\\wheels\\9c\\45\\15\\6d6d116cd2539fb8f450d64b0aee4a480e5366bb11b42ac763\n",
      "Successfully built kaggle\n",
      "Installing collected packages: kaggle\n",
      "Successfully installed kaggle-1.5.13\n",
      "Note: you may need to restart the kernel to use updated packages.\n"
     ]
    }
   ],
   "source": [
    "pip install kaggle --upgrade"
   ]
  },
  {
   "cell_type": "code",
   "execution_count": 3,
   "id": "16c46894-8572-4ea3-aec1-d2459915a16b",
   "metadata": {},
   "outputs": [
    {
     "ename": "SyntaxError",
     "evalue": "invalid syntax (2056466957.py, line 1)",
     "output_type": "error",
     "traceback": [
      "\u001b[1;36m  File \u001b[1;32m\"C:\\Users\\kkksk\\AppData\\Local\\Temp\\ipykernel_22232\\2056466957.py\"\u001b[1;36m, line \u001b[1;32m1\u001b[0m\n\u001b[1;33m    kaggle competitions list\u001b[0m\n\u001b[1;37m           ^\u001b[0m\n\u001b[1;31mSyntaxError\u001b[0m\u001b[1;31m:\u001b[0m invalid syntax\n"
     ]
    }
   ],
   "source": [
    "kaggle competitions list"
   ]
  },
  {
   "cell_type": "code",
   "execution_count": 7,
   "id": "adcef362-ecc9-429a-bf73-0bd1d0562ee7",
   "metadata": {},
   "outputs": [],
   "source": [
    "! pip install -q kaggle"
   ]
  },
  {
   "cell_type": "code",
   "execution_count": 8,
   "id": "4f8cf898-83b1-4ae2-b90c-2cb9759a7a7a",
   "metadata": {},
   "outputs": [
    {
     "name": "stderr",
     "output_type": "stream",
     "text": [
      "명령 구문이 올바르지 않습니다.\n"
     ]
    }
   ],
   "source": [
    "! mkdir -p ~/.kaggle"
   ]
  },
  {
   "cell_type": "code",
   "execution_count": 9,
   "id": "3942d6b7-922b-4479-8ad8-0c778d0a125a",
   "metadata": {},
   "outputs": [
    {
     "name": "stdout",
     "output_type": "stream",
     "text": [
      "Name: kaggle\n",
      "Version: 1.5.13\n",
      "Summary: Kaggle API\n",
      "Home-page: https://github.com/Kaggle/kaggle-api\n",
      "Author: Kaggle\n",
      "Author-email: support@kaggle.com\n",
      "License: Apache 2.0\n",
      "Location: c:\\anaconda\\lib\\site-packages\n",
      "Requires: certifi, python-dateutil, python-slugify, requests, six, tqdm, urllib3\n",
      "Required-by: \n"
     ]
    }
   ],
   "source": [
    "! pip show kaggle"
   ]
  },
  {
   "cell_type": "code",
   "execution_count": 14,
   "id": "9cbc92ac-b320-46ae-80de-37dbc0761516",
   "metadata": {},
   "outputs": [
    {
     "name": "stderr",
     "output_type": "stream",
     "text": [
      "usage: kaggle config [-h] {view,set,unset} ...\n",
      "kaggle config: error: argument command: invalid choice: 'path' (choose from 'view', 'set', 'unset')\n"
     ]
    }
   ],
   "source": [
    "!kaggle config path"
   ]
  },
  {
   "cell_type": "code",
   "execution_count": 13,
   "id": "603560f6-d4e9-462b-a931-4197adaf6ff5",
   "metadata": {},
   "outputs": [
    {
     "name": "stdout",
     "output_type": "stream",
     "text": [
      "usage: kaggle competitions list [-h] [--group GROUP] [--category CATEGORY]\n",
      "                                [--sort-by SORT_BY] [-p PAGE] [-s SEARCH] [-v]\n",
      "\n",
      "optional arguments:\n",
      "  -h, --help            show this help message and exit\n",
      "  --group GROUP         Search for competitions in a specific group. Default is 'general'. Valid options are 'general', 'entered', and 'inClass'\n",
      "  --category CATEGORY   Search for competitions of a specific category. Default is 'all'. Valid options are 'all', 'featured', 'research', 'recruitment', 'gettingStarted', 'masters', and 'playground'\n",
      "  --sort-by SORT_BY     Sort list results. Default is 'latestDeadline'. Valid options are 'grouped', 'prize', 'earliestDeadline', 'latestDeadline', 'numberOfTeams', and 'recentlyCreated'\n",
      "  -p PAGE, --page PAGE  Page number for results paging. Page size is 20 by default\n",
      "  -s SEARCH, --search SEARCH\n",
      "                        Term(s) to search for\n",
      "  -v, --csv             Print results in CSV format (if not set print in table format)\n"
     ]
    }
   ],
   "source": [
    "# 도움말 보기\n",
    "!kaggle competitions list -h"
   ]
  },
  {
   "cell_type": "code",
   "execution_count": 15,
   "id": "ae2702af-c45f-4a39-a639-a7659bc8e791",
   "metadata": {},
   "outputs": [
    {
     "name": "stdout",
     "output_type": "stream",
     "text": [
      "ref                                                                                deadline             category    reward  teamCount  userHasEntered  \n",
      "---------------------------------------------------------------------------------  -------------------  --------  --------  ---------  --------------  \n",
      "https://www.kaggle.com/competitions/tlvmc-parkinsons-freezing-gait-prediction      2023-06-08 23:59:00  Research  $100,000         69           False  \n",
      "https://www.kaggle.com/competitions/amp-parkinsons-disease-progression-prediction  2023-05-18 23:59:00  Featured   $60,000        505            True  \n"
     ]
    }
   ],
   "source": [
    "!kaggle competitions list -s parkinson"
   ]
  },
  {
   "cell_type": "code",
   "execution_count": 17,
   "id": "f726e5d5-843c-4faa-8c30-bef414afa691",
   "metadata": {},
   "outputs": [
    {
     "name": "stdout",
     "output_type": "stream",
     "text": [
      "Downloading amp-parkinsons-disease-progression-prediction.zip to C:\\Users\\kkksk\\Development\\Kaggle-Parkinson\n",
      "\n"
     ]
    },
    {
     "name": "stderr",
     "output_type": "stream",
     "text": [
      "\n",
      "  0%|          | 0.00/16.1M [00:00<?, ?B/s]\n",
      "  6%|6         | 1.00M/16.1M [00:00<00:03, 4.31MB/s]\n",
      " 19%|#8        | 3.00M/16.1M [00:00<00:01, 8.21MB/s]\n",
      " 25%|##4       | 4.00M/16.1M [00:00<00:01, 8.05MB/s]\n",
      " 37%|###7      | 6.00M/16.1M [00:00<00:01, 9.35MB/s]\n",
      " 44%|####3     | 7.00M/16.1M [00:00<00:01, 8.19MB/s]\n",
      " 56%|#####5    | 9.00M/16.1M [00:01<00:00, 8.65MB/s]\n",
      " 62%|######2   | 10.0M/16.1M [00:01<00:00, 8.11MB/s]\n",
      " 68%|######8   | 11.0M/16.1M [00:01<00:00, 7.49MB/s]\n",
      " 81%|########  | 13.0M/16.1M [00:01<00:00, 8.06MB/s]\n",
      " 93%|#########3| 15.0M/16.1M [00:01<00:00, 9.10MB/s]\n",
      " 99%|#########9| 16.0M/16.1M [00:02<00:00, 8.85MB/s]\n",
      "100%|##########| 16.1M/16.1M [00:02<00:00, 8.38MB/s]\n"
     ]
    }
   ],
   "source": [
    "!kaggle competitions download -c amp-parkinsons-disease-progression-prediction"
   ]
  },
  {
   "cell_type": "code",
   "execution_count": 18,
   "id": "3c06a50f-6a4a-4c7c-a38e-d7a97aa1b8f9",
   "metadata": {},
   "outputs": [
    {
     "name": "stdout",
     "output_type": "stream",
     "text": [
      "Collecting xgboost\n",
      "  Downloading xgboost-1.7.4-py3-none-win_amd64.whl (89.1 MB)\n",
      "     ---------------------------------------- 89.1/89.1 MB 3.2 MB/s eta 0:00:00\n",
      "Requirement already satisfied: scipy in c:\\anaconda\\lib\\site-packages (from xgboost) (1.9.1)\n",
      "Requirement already satisfied: numpy in c:\\anaconda\\lib\\site-packages (from xgboost) (1.21.5)\n",
      "Installing collected packages: xgboost\n",
      "Successfully installed xgboost-1.7.4\n"
     ]
    }
   ],
   "source": [
    "!pip install xgboost"
   ]
  },
  {
   "cell_type": "code",
   "execution_count": 19,
   "id": "03c99c7b-a3cf-4eb4-8b29-8a5d154e8f63",
   "metadata": {},
   "outputs": [
    {
     "name": "stdout",
     "output_type": "stream",
     "text": [
      "Collecting pandas_profiling\n",
      "  Downloading pandas_profiling-3.6.6-py2.py3-none-any.whl (324 kB)\n",
      "     -------------------------------------- 324.4/324.4 kB 1.3 MB/s eta 0:00:00\n",
      "Collecting ydata-profiling\n",
      "  Downloading ydata_profiling-4.1.0-py2.py3-none-any.whl (344 kB)\n",
      "     -------------------------------------- 344.9/344.9 kB 1.9 MB/s eta 0:00:00\n",
      "Collecting visions[type_image_path]==0.7.5\n",
      "  Downloading visions-0.7.5-py3-none-any.whl (102 kB)\n",
      "     -------------------------------------- 102.7/102.7 kB 1.5 MB/s eta 0:00:00\n",
      "Collecting typeguard<2.14,>=2.13.2\n",
      "  Downloading typeguard-2.13.3-py3-none-any.whl (17 kB)\n",
      "Collecting imagehash==4.3.1\n",
      "  Downloading ImageHash-4.3.1-py2.py3-none-any.whl (296 kB)\n",
      "     -------------------------------------- 296.5/296.5 kB 2.3 MB/s eta 0:00:00\n",
      "Requirement already satisfied: statsmodels<0.14,>=0.13.2 in c:\\anaconda\\lib\\site-packages (from ydata-profiling->pandas_profiling) (0.13.2)\n",
      "Requirement already satisfied: scipy<1.10,>=1.4.1 in c:\\anaconda\\lib\\site-packages (from ydata-profiling->pandas_profiling) (1.9.1)\n",
      "Requirement already satisfied: seaborn<0.13,>=0.10.1 in c:\\anaconda\\lib\\site-packages (from ydata-profiling->pandas_profiling) (0.11.2)\n",
      "Requirement already satisfied: PyYAML<6.1,>=5.0.0 in c:\\anaconda\\lib\\site-packages (from ydata-profiling->pandas_profiling) (6.0)\n",
      "Requirement already satisfied: jinja2<3.2,>=2.11.1 in c:\\anaconda\\lib\\site-packages (from ydata-profiling->pandas_profiling) (2.11.3)\n",
      "Collecting htmlmin==0.1.12\n",
      "  Downloading htmlmin-0.1.12.tar.gz (19 kB)\n",
      "  Preparing metadata (setup.py): started\n",
      "  Preparing metadata (setup.py): finished with status 'done'\n",
      "Requirement already satisfied: numpy<1.24,>=1.16.0 in c:\\anaconda\\lib\\site-packages (from ydata-profiling->pandas_profiling) (1.21.5)\n",
      "Requirement already satisfied: pandas!=1.4.0,<1.6,>1.1 in c:\\anaconda\\lib\\site-packages (from ydata-profiling->pandas_profiling) (1.4.4)\n",
      "Collecting phik<0.13,>=0.11.1\n",
      "  Downloading phik-0.12.3-cp39-cp39-win_amd64.whl (663 kB)\n",
      "     -------------------------------------- 663.5/663.5 kB 2.6 MB/s eta 0:00:00\n",
      "Requirement already satisfied: tqdm<4.65,>=4.48.2 in c:\\anaconda\\lib\\site-packages (from ydata-profiling->pandas_profiling) (4.64.1)\n",
      "Requirement already satisfied: requests<2.29,>=2.24.0 in c:\\anaconda\\lib\\site-packages (from ydata-profiling->pandas_profiling) (2.28.1)\n",
      "Collecting multimethod<1.10,>=1.4\n",
      "  Downloading multimethod-1.9.1-py3-none-any.whl (10 kB)\n",
      "Requirement already satisfied: matplotlib<3.7,>=3.2 in c:\\anaconda\\lib\\site-packages (from ydata-profiling->pandas_profiling) (3.5.2)\n",
      "Collecting pydantic<1.11,>=1.8.1\n",
      "  Downloading pydantic-1.10.6-cp39-cp39-win_amd64.whl (2.2 MB)\n",
      "     ---------------------------------------- 2.2/2.2 MB 2.3 MB/s eta 0:00:00\n",
      "Requirement already satisfied: PyWavelets in c:\\anaconda\\lib\\site-packages (from imagehash==4.3.1->ydata-profiling->pandas_profiling) (1.3.0)\n",
      "Requirement already satisfied: pillow in c:\\anaconda\\lib\\site-packages (from imagehash==4.3.1->ydata-profiling->pandas_profiling) (9.2.0)\n",
      "Collecting tangled-up-in-unicode>=0.0.4\n",
      "  Downloading tangled_up_in_unicode-0.2.0-py3-none-any.whl (4.7 MB)\n",
      "     ---------------------------------------- 4.7/4.7 MB 2.3 MB/s eta 0:00:00\n",
      "Requirement already satisfied: networkx>=2.4 in c:\\anaconda\\lib\\site-packages (from visions[type_image_path]==0.7.5->ydata-profiling->pandas_profiling) (2.8.4)\n",
      "Requirement already satisfied: attrs>=19.3.0 in c:\\anaconda\\lib\\site-packages (from visions[type_image_path]==0.7.5->ydata-profiling->pandas_profiling) (21.4.0)\n",
      "Requirement already satisfied: MarkupSafe>=0.23 in c:\\anaconda\\lib\\site-packages (from jinja2<3.2,>=2.11.1->ydata-profiling->pandas_profiling) (2.0.1)\n",
      "Requirement already satisfied: kiwisolver>=1.0.1 in c:\\anaconda\\lib\\site-packages (from matplotlib<3.7,>=3.2->ydata-profiling->pandas_profiling) (1.4.2)\n",
      "Requirement already satisfied: packaging>=20.0 in c:\\anaconda\\lib\\site-packages (from matplotlib<3.7,>=3.2->ydata-profiling->pandas_profiling) (21.3)\n",
      "Requirement already satisfied: fonttools>=4.22.0 in c:\\anaconda\\lib\\site-packages (from matplotlib<3.7,>=3.2->ydata-profiling->pandas_profiling) (4.25.0)\n",
      "Requirement already satisfied: cycler>=0.10 in c:\\anaconda\\lib\\site-packages (from matplotlib<3.7,>=3.2->ydata-profiling->pandas_profiling) (0.11.0)\n",
      "Requirement already satisfied: pyparsing>=2.2.1 in c:\\anaconda\\lib\\site-packages (from matplotlib<3.7,>=3.2->ydata-profiling->pandas_profiling) (3.0.9)\n",
      "Requirement already satisfied: python-dateutil>=2.7 in c:\\anaconda\\lib\\site-packages (from matplotlib<3.7,>=3.2->ydata-profiling->pandas_profiling) (2.8.2)\n",
      "Requirement already satisfied: pytz>=2020.1 in c:\\anaconda\\lib\\site-packages (from pandas!=1.4.0,<1.6,>1.1->ydata-profiling->pandas_profiling) (2022.1)\n",
      "Requirement already satisfied: joblib>=0.14.1 in c:\\anaconda\\lib\\site-packages (from phik<0.13,>=0.11.1->ydata-profiling->pandas_profiling) (1.1.0)\n",
      "Requirement already satisfied: typing-extensions>=4.2.0 in c:\\anaconda\\lib\\site-packages (from pydantic<1.11,>=1.8.1->ydata-profiling->pandas_profiling) (4.3.0)\n",
      "Requirement already satisfied: idna<4,>=2.5 in c:\\anaconda\\lib\\site-packages (from requests<2.29,>=2.24.0->ydata-profiling->pandas_profiling) (3.3)\n",
      "Requirement already satisfied: urllib3<1.27,>=1.21.1 in c:\\anaconda\\lib\\site-packages (from requests<2.29,>=2.24.0->ydata-profiling->pandas_profiling) (1.26.11)\n",
      "Requirement already satisfied: certifi>=2017.4.17 in c:\\anaconda\\lib\\site-packages (from requests<2.29,>=2.24.0->ydata-profiling->pandas_profiling) (2022.9.14)\n",
      "Requirement already satisfied: charset-normalizer<3,>=2 in c:\\anaconda\\lib\\site-packages (from requests<2.29,>=2.24.0->ydata-profiling->pandas_profiling) (2.0.4)\n",
      "Requirement already satisfied: patsy>=0.5.2 in c:\\anaconda\\lib\\site-packages (from statsmodels<0.14,>=0.13.2->ydata-profiling->pandas_profiling) (0.5.2)\n",
      "Requirement already satisfied: colorama in c:\\anaconda\\lib\\site-packages (from tqdm<4.65,>=4.48.2->ydata-profiling->pandas_profiling) (0.4.5)\n",
      "Requirement already satisfied: six in c:\\anaconda\\lib\\site-packages (from patsy>=0.5.2->statsmodels<0.14,>=0.13.2->ydata-profiling->pandas_profiling) (1.16.0)\n",
      "Building wheels for collected packages: htmlmin\n",
      "  Building wheel for htmlmin (setup.py): started\n",
      "  Building wheel for htmlmin (setup.py): finished with status 'done'\n",
      "  Created wheel for htmlmin: filename=htmlmin-0.1.12-py3-none-any.whl size=27082 sha256=2da26c78ebea41db23fc5b37ae0677b0cd90af467d038e6b8646dd454fa9cd7f\n",
      "  Stored in directory: c:\\users\\kkksk\\appdata\\local\\pip\\cache\\wheels\\1d\\05\\04\\c6d7d3b66539d9e659ac6dfe81e2d0fd4c1a8316cc5a403300\n",
      "Successfully built htmlmin\n",
      "Installing collected packages: htmlmin, typeguard, tangled-up-in-unicode, pydantic, multimethod, imagehash, visions, phik, ydata-profiling, pandas_profiling\n",
      "Successfully installed htmlmin-0.1.12 imagehash-4.3.1 multimethod-1.9.1 pandas_profiling-3.6.6 phik-0.12.3 pydantic-1.10.6 tangled-up-in-unicode-0.2.0 typeguard-2.13.3 visions-0.7.5 ydata-profiling-4.1.0\n"
     ]
    }
   ],
   "source": [
    "!pip install pandas_profiling\n"
   ]
  },
  {
   "cell_type": "code",
   "execution_count": 20,
   "id": "3cf2cdc3-e154-4f83-b95d-96aa9915101a",
   "metadata": {},
   "outputs": [
    {
     "name": "stderr",
     "output_type": "stream",
     "text": [
      "ERROR: Could not find a version that satisfies the requirement amp_pd_peptide (from versions: none)\n",
      "ERROR: No matching distribution found for amp_pd_peptide\n"
     ]
    }
   ],
   "source": [
    "!pip install amp_pd_peptide"
   ]
  }
 ],
 "metadata": {
  "kernelspec": {
   "display_name": "Python 3 (ipykernel)",
   "language": "python",
   "name": "python3"
  },
  "language_info": {
   "codemirror_mode": {
    "name": "ipython",
    "version": 3
   },
   "file_extension": ".py",
   "mimetype": "text/x-python",
   "name": "python",
   "nbconvert_exporter": "python",
   "pygments_lexer": "ipython3",
   "version": "3.9.13"
  }
 },
 "nbformat": 4,
 "nbformat_minor": 5
}
