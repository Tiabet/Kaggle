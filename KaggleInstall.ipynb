{
 "cells": [
  {
   "cell_type": "code",
   "execution_count": 1,
   "id": "cbac1997-78d2-403c-99e9-f34414b45fb1",
   "metadata": {},
   "outputs": [
    {
     "name": "stdout",
     "output_type": "stream",
     "text": [
      "Collecting kaggle\n",
      "  Downloading kaggle-1.5.13.tar.gz (63 kB)\n",
      "     ---------------------------------------- 63.3/63.3 kB 3.5 MB/s eta 0:00:00\n",
      "  Preparing metadata (setup.py): started\n",
      "  Preparing metadata (setup.py): finished with status 'done'\n",
      "Requirement already satisfied: six>=1.10 in c:\\anaconda\\lib\\site-packages (from kaggle) (1.16.0)\n",
      "Requirement already satisfied: certifi in c:\\anaconda\\lib\\site-packages (from kaggle) (2022.9.14)\n",
      "Requirement already satisfied: python-dateutil in c:\\anaconda\\lib\\site-packages (from kaggle) (2.8.2)\n",
      "Requirement already satisfied: requests in c:\\anaconda\\lib\\site-packages (from kaggle) (2.28.1)\n",
      "Requirement already satisfied: tqdm in c:\\anaconda\\lib\\site-packages (from kaggle) (4.64.1)\n",
      "Requirement already satisfied: python-slugify in c:\\anaconda\\lib\\site-packages (from kaggle) (5.0.2)\n",
      "Requirement already satisfied: urllib3 in c:\\anaconda\\lib\\site-packages (from kaggle) (1.26.11)\n",
      "Requirement already satisfied: text-unidecode>=1.3 in c:\\anaconda\\lib\\site-packages (from python-slugify->kaggle) (1.3)\n",
      "Requirement already satisfied: idna<4,>=2.5 in c:\\anaconda\\lib\\site-packages (from requests->kaggle) (3.3)\n",
      "Requirement already satisfied: charset-normalizer<3,>=2 in c:\\anaconda\\lib\\site-packages (from requests->kaggle) (2.0.4)\n",
      "Requirement already satisfied: colorama in c:\\anaconda\\lib\\site-packages (from tqdm->kaggle) (0.4.5)\n",
      "Building wheels for collected packages: kaggle\n",
      "  Building wheel for kaggle (setup.py): started\n",
      "  Building wheel for kaggle (setup.py): finished with status 'done'\n",
      "  Created wheel for kaggle: filename=kaggle-1.5.13-py3-none-any.whl size=77717 sha256=69f43843204d4d931454eff9db4d24f2004a23d0ce96ba141c560a912bd14606\n",
      "  Stored in directory: c:\\users\\kkksk\\appdata\\local\\pip\\cache\\wheels\\9c\\45\\15\\6d6d116cd2539fb8f450d64b0aee4a480e5366bb11b42ac763\n",
      "Successfully built kaggle\n",
      "Installing collected packages: kaggle\n",
      "Successfully installed kaggle-1.5.13\n",
      "Note: you may need to restart the kernel to use updated packages.\n"
     ]
    }
   ],
   "source": [
    "pip install kaggle --upgrade"
   ]
  },
  {
   "cell_type": "code",
   "execution_count": 3,
   "id": "16c46894-8572-4ea3-aec1-d2459915a16b",
   "metadata": {},
   "outputs": [
    {
     "ename": "SyntaxError",
     "evalue": "invalid syntax (2056466957.py, line 1)",
     "output_type": "error",
     "traceback": [
      "\u001b[1;36m  File \u001b[1;32m\"C:\\Users\\kkksk\\AppData\\Local\\Temp\\ipykernel_22232\\2056466957.py\"\u001b[1;36m, line \u001b[1;32m1\u001b[0m\n\u001b[1;33m    kaggle competitions list\u001b[0m\n\u001b[1;37m           ^\u001b[0m\n\u001b[1;31mSyntaxError\u001b[0m\u001b[1;31m:\u001b[0m invalid syntax\n"
     ]
    }
   ],
   "source": [
    "kaggle competitions list"
   ]
  },
  {
   "cell_type": "code",
   "execution_count": 7,
   "id": "adcef362-ecc9-429a-bf73-0bd1d0562ee7",
   "metadata": {},
   "outputs": [],
   "source": [
    "! pip install -q kaggle"
   ]
  },
  {
   "cell_type": "code",
   "execution_count": 8,
   "id": "4f8cf898-83b1-4ae2-b90c-2cb9759a7a7a",
   "metadata": {},
   "outputs": [
    {
     "name": "stderr",
     "output_type": "stream",
     "text": [
      "명령 구문이 올바르지 않습니다.\n"
     ]
    }
   ],
   "source": [
    "! mkdir -p ~/.kaggle"
   ]
  },
  {
   "cell_type": "code",
   "execution_count": 9,
   "id": "3942d6b7-922b-4479-8ad8-0c778d0a125a",
   "metadata": {},
   "outputs": [
    {
     "name": "stdout",
     "output_type": "stream",
     "text": [
      "Name: kaggle\n",
      "Version: 1.5.13\n",
      "Summary: Kaggle API\n",
      "Home-page: https://github.com/Kaggle/kaggle-api\n",
      "Author: Kaggle\n",
      "Author-email: support@kaggle.com\n",
      "License: Apache 2.0\n",
      "Location: c:\\anaconda\\lib\\site-packages\n",
      "Requires: certifi, python-dateutil, python-slugify, requests, six, tqdm, urllib3\n",
      "Required-by: \n"
     ]
    }
   ],
   "source": [
    "! pip show kaggle"
   ]
  },
  {
   "cell_type": "code",
   "execution_count": 14,
   "id": "9cbc92ac-b320-46ae-80de-37dbc0761516",
   "metadata": {},
   "outputs": [
    {
     "name": "stderr",
     "output_type": "stream",
     "text": [
      "usage: kaggle config [-h] {view,set,unset} ...\n",
      "kaggle config: error: argument command: invalid choice: 'path' (choose from 'view', 'set', 'unset')\n"
     ]
    }
   ],
   "source": [
    "!kaggle config path"
   ]
  },
  {
   "cell_type": "code",
   "execution_count": 13,
   "id": "603560f6-d4e9-462b-a931-4197adaf6ff5",
   "metadata": {},
   "outputs": [
    {
     "name": "stdout",
     "output_type": "stream",
     "text": [
      "usage: kaggle competitions list [-h] [--group GROUP] [--category CATEGORY]\n",
      "                                [--sort-by SORT_BY] [-p PAGE] [-s SEARCH] [-v]\n",
      "\n",
      "optional arguments:\n",
      "  -h, --help            show this help message and exit\n",
      "  --group GROUP         Search for competitions in a specific group. Default is 'general'. Valid options are 'general', 'entered', and 'inClass'\n",
      "  --category CATEGORY   Search for competitions of a specific category. Default is 'all'. Valid options are 'all', 'featured', 'research', 'recruitment', 'gettingStarted', 'masters', and 'playground'\n",
      "  --sort-by SORT_BY     Sort list results. Default is 'latestDeadline'. Valid options are 'grouped', 'prize', 'earliestDeadline', 'latestDeadline', 'numberOfTeams', and 'recentlyCreated'\n",
      "  -p PAGE, --page PAGE  Page number for results paging. Page size is 20 by default\n",
      "  -s SEARCH, --search SEARCH\n",
      "                        Term(s) to search for\n",
      "  -v, --csv             Print results in CSV format (if not set print in table format)\n"
     ]
    }
   ],
   "source": [
    "# 도움말 보기\n",
    "!kaggle competitions list -h"
   ]
  },
  {
   "cell_type": "code",
   "execution_count": 15,
   "id": "ae2702af-c45f-4a39-a639-a7659bc8e791",
   "metadata": {},
   "outputs": [
    {
     "name": "stdout",
     "output_type": "stream",
     "text": [
      "ref                                                                                deadline             category    reward  teamCount  userHasEntered  \n",
      "---------------------------------------------------------------------------------  -------------------  --------  --------  ---------  --------------  \n",
      "https://www.kaggle.com/competitions/tlvmc-parkinsons-freezing-gait-prediction      2023-06-08 23:59:00  Research  $100,000         69           False  \n",
      "https://www.kaggle.com/competitions/amp-parkinsons-disease-progression-prediction  2023-05-18 23:59:00  Featured   $60,000        505            True  \n"
     ]
    }
   ],
   "source": [
    "!kaggle competitions list -s parkinson"
   ]
  },
  {
   "cell_type": "code",
   "execution_count": 17,
   "id": "f726e5d5-843c-4faa-8c30-bef414afa691",
   "metadata": {},
   "outputs": [
    {
     "name": "stdout",
     "output_type": "stream",
     "text": [
      "Downloading amp-parkinsons-disease-progression-prediction.zip to C:\\Users\\kkksk\\Development\\Kaggle-Parkinson\n",
      "\n"
     ]
    },
    {
     "name": "stderr",
     "output_type": "stream",
     "text": [
      "\n",
      "  0%|          | 0.00/16.1M [00:00<?, ?B/s]\n",
      "  6%|6         | 1.00M/16.1M [00:00<00:03, 4.31MB/s]\n",
      " 19%|#8        | 3.00M/16.1M [00:00<00:01, 8.21MB/s]\n",
      " 25%|##4       | 4.00M/16.1M [00:00<00:01, 8.05MB/s]\n",
      " 37%|###7      | 6.00M/16.1M [00:00<00:01, 9.35MB/s]\n",
      " 44%|####3     | 7.00M/16.1M [00:00<00:01, 8.19MB/s]\n",
      " 56%|#####5    | 9.00M/16.1M [00:01<00:00, 8.65MB/s]\n",
      " 62%|######2   | 10.0M/16.1M [00:01<00:00, 8.11MB/s]\n",
      " 68%|######8   | 11.0M/16.1M [00:01<00:00, 7.49MB/s]\n",
      " 81%|########  | 13.0M/16.1M [00:01<00:00, 8.06MB/s]\n",
      " 93%|#########3| 15.0M/16.1M [00:01<00:00, 9.10MB/s]\n",
      " 99%|#########9| 16.0M/16.1M [00:02<00:00, 8.85MB/s]\n",
      "100%|##########| 16.1M/16.1M [00:02<00:00, 8.38MB/s]\n"
     ]
    }
   ],
   "source": [
    "!kaggle competitions download -c amp-parkinsons-disease-progression-prediction"
   ]
  },
  {
   "cell_type": "code",
   "execution_count": null,
   "id": "3c06a50f-6a4a-4c7c-a38e-d7a97aa1b8f9",
   "metadata": {},
   "outputs": [],
   "source": []
  }
 ],
 "metadata": {
  "kernelspec": {
   "display_name": "Python 3 (ipykernel)",
   "language": "python",
   "name": "python3"
  },
  "language_info": {
   "codemirror_mode": {
    "name": "ipython",
    "version": 3
   },
   "file_extension": ".py",
   "mimetype": "text/x-python",
   "name": "python",
   "nbconvert_exporter": "python",
   "pygments_lexer": "ipython3",
   "version": "3.9.13"
  }
 },
 "nbformat": 4,
 "nbformat_minor": 5
}
